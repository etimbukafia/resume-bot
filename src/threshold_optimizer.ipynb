{
 "cells": [
  {
   "cell_type": "code",
   "execution_count": 1,
   "metadata": {},
   "outputs": [
    {
     "name": "stderr",
     "output_type": "stream",
     "text": [
      "c:\\Users\\j\\.vscode\\Resume_search\\resume-search\\Lib\\site-packages\\pydantic\\_internal\\_config.py:341: UserWarning: Valid config keys have changed in V2:\n",
      "* 'allow_population_by_field_name' has been renamed to 'populate_by_name'\n",
      "* 'smart_union' has been removed\n",
      "  warnings.warn(message, UserWarning)\n",
      "c:\\Users\\j\\.vscode\\Resume_search\\resume-search\\Lib\\site-packages\\tqdm\\auto.py:21: TqdmWarning: IProgress not found. Please update jupyter and ipywidgets. See https://ipywidgets.readthedocs.io/en/stable/user_install.html\n",
      "  from .autonotebook import tqdm as notebook_tqdm\n"
     ]
    }
   ],
   "source": [
    "from semantic_router import Route"
   ]
  },
  {
   "cell_type": "code",
   "execution_count": 30,
   "metadata": {},
   "outputs": [],
   "source": [
    "resume_chat = Route(\n",
    "    name=\"resume_inquiries\",\n",
    "    utterances=[\n",
    "      \"Can you find applicants with experience in data science?\",\n",
    "      \"I'm looking for candidates with a strong background in machine learning.\",\n",
    "      \"What resumes match the keyword 'Python developer'?\",\n",
    "      \"Do you have any recommendations for candidates with over 5 years of experience?\",\n",
    "      \"Can you show me resumes of applicants who worked as a software engineer?\",\n",
    "      \"I'm interested in resumes with experience in computer vision. What do you have?\",\n",
    "      \"Which applicants have project management skills?\",\n",
    "      \"Can you find candidates who have worked in the finance sector?\",\n",
    "      \"Show me resumes of applicants proficient in natural language processing.\",\n",
    "      \"Do you have resumes with expertise in cloud computing?\"\n",
    "      \"Tell me about Lucius's work experience\"\n",
    "      \"What are skills listed on Kandace's resume?\"\n",
    "    ],\n",
    ")\n",
    "\n",
    "pdf_chat = Route(\n",
    "  name = \"request_resume_pdfs\",\n",
    "  utterances = [\n",
    "    \"Can you send me the PDF of the applicant's resume?\",\n",
    "    \"I need the resume document for this candidate.\",\n",
    "    \"Please provide the resume file for this applicant.\",\n",
    "    \"Can I download the PDF version of the resume?\",\n",
    "    \"I'd like to get a copy of the resume in PDF format.\",\n",
    "    \"Can you show me the full resume PDF?\",\n",
    "    \"I want the original resume document.\",\n",
    "    \"Can you provide the resume as a PDF?\",\n",
    "    \"Send me the PDF resume for this candidate.\"\n",
    "  ]\n",
    ")\n",
    "\n",
    "# we place all of our decisions together into single list\n",
    "routes = [resume_chat, pdf_chat]"
   ]
  },
  {
   "cell_type": "code",
   "execution_count": 25,
   "metadata": {},
   "outputs": [],
   "source": [
    "from semantic_router.encoders import HuggingFaceEncoder\n",
    "from semantic_router import RouteLayer"
   ]
  },
  {
   "cell_type": "code",
   "execution_count": 31,
   "metadata": {},
   "outputs": [
    {
     "name": "stderr",
     "output_type": "stream",
     "text": [
      "c:\\Users\\j\\.vscode\\Resume_search\\resume-search\\Lib\\site-packages\\transformers\\tokenization_utils_base.py:1601: FutureWarning: `clean_up_tokenization_spaces` was not set. It will be set to `True` by default. This behavior will be depracted in transformers v4.45, and will be then set to `False` by default. For more details check this issue: https://github.com/huggingface/transformers/issues/31884\n",
      "  warnings.warn(\n"
     ]
    }
   ],
   "source": [
    "encoder = HuggingFaceEncoder()"
   ]
  },
  {
   "cell_type": "code",
   "execution_count": 32,
   "metadata": {},
   "outputs": [],
   "source": [
    "rl = RouteLayer(encoder=encoder, routes=routes)"
   ]
  },
  {
   "cell_type": "code",
   "execution_count": 27,
   "metadata": {},
   "outputs": [
    {
     "data": {
      "text/plain": [
       "RouteChoice(name='request_resume_pdfs', function_call=None, similarity_score=None)"
      ]
     },
     "execution_count": 27,
     "metadata": {},
     "output_type": "execute_result"
    }
   ],
   "source": [
    "rl(\"Send me a PDF of a resume with machine learning expertise\")"
   ]
  },
  {
   "cell_type": "code",
   "execution_count": 28,
   "metadata": {},
   "outputs": [
    {
     "data": {
      "text/plain": [
       "RouteChoice(name='resume_inquiries', function_call=None, similarity_score=None)"
      ]
     },
     "execution_count": 28,
     "metadata": {},
     "output_type": "execute_result"
    }
   ],
   "source": [
    "rl(\"Are there any resumes with experience in reinforcement learning?\")"
   ]
  },
  {
   "cell_type": "code",
   "execution_count": 29,
   "metadata": {},
   "outputs": [
    {
     "data": {
      "text/plain": [
       "RouteChoice(name=None, function_call=None, similarity_score=None)"
      ]
     },
     "execution_count": 29,
     "metadata": {},
     "output_type": "execute_result"
    }
   ],
   "source": [
    "rl(\"How do I start learning a new programming language?\")"
   ]
  },
  {
   "cell_type": "code",
   "execution_count": 19,
   "metadata": {},
   "outputs": [
    {
     "name": "stdout",
     "output_type": "stream",
     "text": [
      "Default route thresholds: {'resume_inquiries': 0.5, 'request_resume_pdfs': 0.5}\n"
     ]
    }
   ],
   "source": [
    "route_thresholds = rl.get_thresholds()\n",
    "print(\"Default route thresholds:\", route_thresholds)"
   ]
  },
  {
   "cell_type": "code",
   "execution_count": null,
   "metadata": {},
   "outputs": [],
   "source": []
  },
  {
   "cell_type": "code",
   "execution_count": 20,
   "metadata": {},
   "outputs": [],
   "source": [
    "test_data = [\n",
    "    # request_resume_pdfs\n",
    "    (\"Can you provide Ambrose's resume as a PDF?\", \"request_resume_pdfs\"),\n",
    "    (\"I need the PDF version of Andrey's resume.\", \"request_resume_pdfs\"),\n",
    "    (\"Send me Emily's resume as a PDF.\", \"request_resume_pdfs\"),\n",
    "    (\"Please share the PDF of John's resume.\", \"request_resume_pdfs\"),\n",
    "    (\"Can I get a PDF copy of Julia's resume?\", \"request_resume_pdfs\"),\n",
    "    (\"Please send over the PDF version of Michael's resume.\", \"request_resume_pdfs\"),\n",
    "    (\"Give me the PDF of Alex's resume.\", \"request_resume_pdfs\"),\n",
    "    (\"Can you provide the resume in PDF format for Chris?\", \"request_resume_pdfs\"),\n",
    "    (\"I need the PDF version of the resume for the candidate with Java skills.\", \"request_resume_pdfs\"),\n",
    "    (\"Send me a PDF of the resume with machine learning expertise.\", \"request_resume_pdfs\"),\n",
    "\n",
    "    # resume_inquiries\n",
    "    (\"I need candidates with experience in PyTorch.\", \"resume_inquiries\"),\n",
    "    (\"Tell me about the work experience listed on Archibald's resume.\", \"resume_inquiries\"),\n",
    "    (\"Give me a list of applicants with TensorFlow experience and provide their resumes.\", \"resume_inquiries\"),\n",
    "    (\"Do any candidates have experience in natural language processing?\", \"resume_inquiries\"),\n",
    "    (\"What are the key achievements listed on Sarah's resume?\", \"resume_inquiries\"),\n",
    "    (\"I need the resume of a candidate with a background in data science.\", \"resume_inquiries\"),\n",
    "    (\"Which applicants have experience with cloud computing?\", \"resume_inquiries\"),\n",
    "    (\"What education details are included in Nathan's resume?\", \"resume_inquiries\"),\n",
    "    (\"Could you find the resume of the applicant with deep learning expertise?\", \"resume_inquiries\"),\n",
    "    (\"Are there any resumes with experience in reinforcement learning?\", \"resume_inquiries\"),\n",
    "\n",
    "    # None\n",
    "    (\"What is the exchange rate of France?\", \"None\"),\n",
    "    (\"How do I write a resume?\", \"None\"),\n",
    "    (\"What's the weather like in Paris?\", \"None\"),\n",
    "    (\"Can you tell me about the latest tech trends?\", \"None\"),\n",
    "    (\"How do I create a budget plan?\", \"None\"),\n",
    "    (\"What are some healthy recipes for dinner?\", \"None\"),\n",
    "    (\"Can you recommend a good book to read?\", \"None\"),\n",
    "    (\"How can I improve my public speaking skills?\", \"None\"),\n",
    "    (\"What's the latest news on space exploration?\", \"None\"),\n",
    "    (\"How do I start learning a new programming language?\", \"None\"),\n",
    "]\n"
   ]
  },
  {
   "cell_type": "code",
   "execution_count": 21,
   "metadata": {},
   "outputs": [
    {
     "name": "stderr",
     "output_type": "stream",
     "text": [
      "Generating embeddings: 100%|██████████| 1/1 [00:01<00:00,  1.13s/it]"
     ]
    },
    {
     "name": "stdout",
     "output_type": "stream",
     "text": [
      "Accuracy: 50.00%\n"
     ]
    },
    {
     "name": "stderr",
     "output_type": "stream",
     "text": [
      "\n"
     ]
    }
   ],
   "source": [
    "# unpack the test data\n",
    "X, y = zip(*test_data)\n",
    "\n",
    "# evaluate using the default thresholds\n",
    "accuracy = rl.evaluate(X=X, y=y)\n",
    "print(f\"Accuracy: {accuracy*100:.2f}%\")"
   ]
  },
  {
   "cell_type": "code",
   "execution_count": 23,
   "metadata": {},
   "outputs": [
    {
     "name": "stderr",
     "output_type": "stream",
     "text": [
      "Generating embeddings: 100%|██████████| 1/1 [00:00<00:00,  1.58it/s]\n",
      "Training:   0%|          | 0/500 [00:00<?, ?it/s, acc=0.5]\n"
     ]
    },
    {
     "ename": "ValueError",
     "evalue": "The truth value of an array with more than one element is ambiguous. Use a.any() or a.all()",
     "output_type": "error",
     "traceback": [
      "\u001b[1;31m---------------------------------------------------------------------------\u001b[0m",
      "\u001b[1;31mValueError\u001b[0m                                Traceback (most recent call last)",
      "Cell \u001b[1;32mIn[23], line 2\u001b[0m\n\u001b[0;32m      1\u001b[0m \u001b[38;5;66;03m# Call the fit method\u001b[39;00m\n\u001b[1;32m----> 2\u001b[0m \u001b[43mrl\u001b[49m\u001b[38;5;241;43m.\u001b[39;49m\u001b[43mfit\u001b[49m\u001b[43m(\u001b[49m\u001b[43mX\u001b[49m\u001b[38;5;241;43m=\u001b[39;49m\u001b[43mX\u001b[49m\u001b[43m,\u001b[49m\u001b[43m \u001b[49m\u001b[43my\u001b[49m\u001b[38;5;241;43m=\u001b[39;49m\u001b[43my\u001b[49m\u001b[43m)\u001b[49m\n",
      "File \u001b[1;32mc:\\Users\\j\\.vscode\\Resume_search\\resume-search\\Lib\\site-packages\\semantic_router\\layer.py:739\u001b[0m, in \u001b[0;36mRouteLayer.fit\u001b[1;34m(self, X, y, batch_size, max_iter, local_execution)\u001b[0m\n\u001b[0;32m    737\u001b[0m pbar\u001b[38;5;241m.\u001b[39mset_postfix({\u001b[38;5;124m\"\u001b[39m\u001b[38;5;124macc\u001b[39m\u001b[38;5;124m\"\u001b[39m: \u001b[38;5;28mround\u001b[39m(best_acc, \u001b[38;5;241m2\u001b[39m)})\n\u001b[0;32m    738\u001b[0m \u001b[38;5;66;03m# Find the best score threshold for each route\u001b[39;00m\n\u001b[1;32m--> 739\u001b[0m thresholds \u001b[38;5;241m=\u001b[39m \u001b[43mthreshold_random_search\u001b[49m\u001b[43m(\u001b[49m\n\u001b[0;32m    740\u001b[0m \u001b[43m    \u001b[49m\u001b[43mroute_layer\u001b[49m\u001b[38;5;241;43m=\u001b[39;49m\u001b[38;5;28;43mself\u001b[39;49m\u001b[43m,\u001b[49m\n\u001b[0;32m    741\u001b[0m \u001b[43m    \u001b[49m\u001b[43msearch_range\u001b[49m\u001b[38;5;241;43m=\u001b[39;49m\u001b[38;5;241;43m0.8\u001b[39;49m\u001b[43m,\u001b[49m\n\u001b[0;32m    742\u001b[0m \u001b[43m\u001b[49m\u001b[43m)\u001b[49m\n\u001b[0;32m    743\u001b[0m \u001b[38;5;66;03m# update current route layer\u001b[39;00m\n\u001b[0;32m    744\u001b[0m \u001b[38;5;28mself\u001b[39m\u001b[38;5;241m.\u001b[39m_update_thresholds(score_thresholds\u001b[38;5;241m=\u001b[39mthresholds)\n",
      "File \u001b[1;32mc:\\Users\\j\\.vscode\\Resume_search\\resume-search\\Lib\\site-packages\\semantic_router\\layer.py:807\u001b[0m, in \u001b[0;36mthreshold_random_search\u001b[1;34m(route_layer, search_range)\u001b[0m\n\u001b[0;32m    799\u001b[0m     score_threshold_values\u001b[38;5;241m.\u001b[39mappend(\n\u001b[0;32m    800\u001b[0m         np\u001b[38;5;241m.\u001b[39mlinspace(\n\u001b[0;32m    801\u001b[0m             start\u001b[38;5;241m=\u001b[39m\u001b[38;5;28mmax\u001b[39m(threshold \u001b[38;5;241m-\u001b[39m search_range, \u001b[38;5;241m0.0\u001b[39m),\n\u001b[1;32m   (...)\u001b[0m\n\u001b[0;32m    804\u001b[0m         )\n\u001b[0;32m    805\u001b[0m     )\n\u001b[0;32m    806\u001b[0m \u001b[38;5;66;03m# Generate a random threshold for each route\u001b[39;00m\n\u001b[1;32m--> 807\u001b[0m score_thresholds \u001b[38;5;241m=\u001b[39m \u001b[43m{\u001b[49m\n\u001b[0;32m    808\u001b[0m \u001b[43m    \u001b[49m\u001b[43mroute\u001b[49m\u001b[43m:\u001b[49m\u001b[43m \u001b[49m\u001b[43mrandom\u001b[49m\u001b[38;5;241;43m.\u001b[39;49m\u001b[43mchoice\u001b[49m\u001b[43m(\u001b[49m\u001b[43mscore_threshold_values\u001b[49m\u001b[43m[\u001b[49m\u001b[43mi\u001b[49m\u001b[43m]\u001b[49m\u001b[43m)\u001b[49m\n\u001b[0;32m    809\u001b[0m \u001b[43m    \u001b[49m\u001b[38;5;28;43;01mfor\u001b[39;49;00m\u001b[43m \u001b[49m\u001b[43mi\u001b[49m\u001b[43m,\u001b[49m\u001b[43m \u001b[49m\u001b[43mroute\u001b[49m\u001b[43m \u001b[49m\u001b[38;5;129;43;01min\u001b[39;49;00m\u001b[43m \u001b[49m\u001b[38;5;28;43menumerate\u001b[39;49m\u001b[43m(\u001b[49m\u001b[43mroute_names\u001b[49m\u001b[43m)\u001b[49m\n\u001b[0;32m    810\u001b[0m \u001b[43m\u001b[49m\u001b[43m}\u001b[49m\n\u001b[0;32m    811\u001b[0m \u001b[38;5;28;01mreturn\u001b[39;00m score_thresholds\n",
      "File \u001b[1;32mc:\\Users\\j\\.vscode\\Resume_search\\resume-search\\Lib\\site-packages\\semantic_router\\layer.py:808\u001b[0m, in \u001b[0;36m<dictcomp>\u001b[1;34m(.0)\u001b[0m\n\u001b[0;32m    799\u001b[0m     score_threshold_values\u001b[38;5;241m.\u001b[39mappend(\n\u001b[0;32m    800\u001b[0m         np\u001b[38;5;241m.\u001b[39mlinspace(\n\u001b[0;32m    801\u001b[0m             start\u001b[38;5;241m=\u001b[39m\u001b[38;5;28mmax\u001b[39m(threshold \u001b[38;5;241m-\u001b[39m search_range, \u001b[38;5;241m0.0\u001b[39m),\n\u001b[1;32m   (...)\u001b[0m\n\u001b[0;32m    804\u001b[0m         )\n\u001b[0;32m    805\u001b[0m     )\n\u001b[0;32m    806\u001b[0m \u001b[38;5;66;03m# Generate a random threshold for each route\u001b[39;00m\n\u001b[0;32m    807\u001b[0m score_thresholds \u001b[38;5;241m=\u001b[39m {\n\u001b[1;32m--> 808\u001b[0m     route: \u001b[43mrandom\u001b[49m\u001b[38;5;241;43m.\u001b[39;49m\u001b[43mchoice\u001b[49m\u001b[43m(\u001b[49m\u001b[43mscore_threshold_values\u001b[49m\u001b[43m[\u001b[49m\u001b[43mi\u001b[49m\u001b[43m]\u001b[49m\u001b[43m)\u001b[49m\n\u001b[0;32m    809\u001b[0m     \u001b[38;5;28;01mfor\u001b[39;00m i, route \u001b[38;5;129;01min\u001b[39;00m \u001b[38;5;28menumerate\u001b[39m(route_names)\n\u001b[0;32m    810\u001b[0m }\n\u001b[0;32m    811\u001b[0m \u001b[38;5;28;01mreturn\u001b[39;00m score_thresholds\n",
      "File \u001b[1;32mC:\\Users\\Afia\\python311\\Lib\\random.py:369\u001b[0m, in \u001b[0;36mRandom.choice\u001b[1;34m(self, seq)\u001b[0m\n\u001b[0;32m    367\u001b[0m \u001b[38;5;28;01mdef\u001b[39;00m \u001b[38;5;21mchoice\u001b[39m(\u001b[38;5;28mself\u001b[39m, seq):\n\u001b[0;32m    368\u001b[0m \u001b[38;5;250m    \u001b[39m\u001b[38;5;124;03m\"\"\"Choose a random element from a non-empty sequence.\"\"\"\u001b[39;00m\n\u001b[1;32m--> 369\u001b[0m     \u001b[38;5;28;01mif\u001b[39;00m \u001b[38;5;129;01mnot\u001b[39;00m seq:\n\u001b[0;32m    370\u001b[0m         \u001b[38;5;28;01mraise\u001b[39;00m \u001b[38;5;167;01mIndexError\u001b[39;00m(\u001b[38;5;124m'\u001b[39m\u001b[38;5;124mCannot choose from an empty sequence\u001b[39m\u001b[38;5;124m'\u001b[39m)\n\u001b[0;32m    371\u001b[0m     \u001b[38;5;28;01mreturn\u001b[39;00m seq[\u001b[38;5;28mself\u001b[39m\u001b[38;5;241m.\u001b[39m_randbelow(\u001b[38;5;28mlen\u001b[39m(seq))]\n",
      "\u001b[1;31mValueError\u001b[0m: The truth value of an array with more than one element is ambiguous. Use a.any() or a.all()"
     ]
    }
   ],
   "source": [
    "# Call the fit method\n",
    "rl.fit(X=X, y=y)"
   ]
  },
  {
   "cell_type": "code",
   "execution_count": null,
   "metadata": {},
   "outputs": [],
   "source": [
    "route_thresholds = rl.get_thresholds()\n",
    "print(\"Updated route thresholds:\", route_thresholds)"
   ]
  }
 ],
 "metadata": {
  "kernelspec": {
   "display_name": "resume-search",
   "language": "python",
   "name": "python3"
  },
  "language_info": {
   "codemirror_mode": {
    "name": "ipython",
    "version": 3
   },
   "file_extension": ".py",
   "mimetype": "text/x-python",
   "name": "python",
   "nbconvert_exporter": "python",
   "pygments_lexer": "ipython3",
   "version": "3.11.1"
  }
 },
 "nbformat": 4,
 "nbformat_minor": 2
}
